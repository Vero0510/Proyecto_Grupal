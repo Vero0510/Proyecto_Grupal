{
 "cells": [
  {
   "cell_type": "markdown",
   "metadata": {},
   "source": [
    "## Yelp"
   ]
  },
  {
   "cell_type": "markdown",
   "metadata": {},
   "source": [
    "### reviews"
   ]
  },
  {
   "cell_type": "code",
   "execution_count": 82,
   "metadata": {},
   "outputs": [],
   "source": [
    "import pandas as pd"
   ]
  },
  {
   "cell_type": "code",
   "execution_count": 5,
   "metadata": {},
   "outputs": [],
   "source": [
    "reviews = pd.read_csv(\"d:\\\\Downloads\\\\bq-results-20241021-182102-1729534874175.csv\")"
   ]
  },
  {
   "cell_type": "markdown",
   "metadata": {},
   "source": [
    "### bussines\n"
   ]
  },
  {
   "cell_type": "code",
   "execution_count": 7,
   "metadata": {},
   "outputs": [],
   "source": [
    "import pandas as pd\n",
    "\n",
    "# Cargar el archivo .pkl\n",
    "df = pd.read_pickle(\"D:\\\\Desktop\\\\proyecto_grupal\\\\business.pkl\")"
   ]
  },
  {
   "cell_type": "code",
   "execution_count": 8,
   "metadata": {},
   "outputs": [],
   "source": [
    "# Borrar columnas duplicadas\n",
    "duplicated_columns = df.columns[df.columns.duplicated()]\n",
    "\n",
    "# Eliminar columnas duplicadas\n",
    "df = df.loc[:, ~df.columns.duplicated()]"
   ]
  },
  {
   "cell_type": "code",
   "execution_count": 24,
   "metadata": {},
   "outputs": [],
   "source": [
    "df_business= df[df[\"state\"].isin([\"FL\"])]\n"
   ]
  },
  {
   "cell_type": "code",
   "execution_count": 25,
   "metadata": {},
   "outputs": [
    {
     "data": {
      "text/plain": [
       "state\n",
       "FL    26329\n",
       "Name: count, dtype: int64"
      ]
     },
     "execution_count": 25,
     "metadata": {},
     "output_type": "execute_result"
    }
   ],
   "source": [
    "df_business[\"state\"].value_counts()"
   ]
  },
  {
   "cell_type": "code",
   "execution_count": 50,
   "metadata": {},
   "outputs": [],
   "source": [
    "df_business = df_business[df_business[\"categories\"].str.contains(r\"(?i)\\brestaurants\\b\", na=False)] \n",
    "\n"
   ]
  },
  {
   "cell_type": "code",
   "execution_count": 52,
   "metadata": {},
   "outputs": [],
   "source": [
    "# Guardar como archivo CSV\n",
    "df_business.to_csv(\"df_business_limpio.csv\", index=False)"
   ]
  },
  {
   "cell_type": "code",
   "execution_count": 53,
   "metadata": {},
   "outputs": [],
   "source": [
    "from pandas import json_normalize\n",
    "df_attributes = json_normalize(df_business['attributes'])"
   ]
  },
  {
   "cell_type": "code",
   "execution_count": 55,
   "metadata": {},
   "outputs": [],
   "source": [
    "df_attributes.to_csv(\"df_attributes.csv\")"
   ]
  },
  {
   "cell_type": "markdown",
   "metadata": {},
   "source": [
    "### Join entre df_business_limpio y df_reviews"
   ]
  },
  {
   "cell_type": "markdown",
   "metadata": {},
   "source": [
    "reviews tiene 40mil registros"
   ]
  },
  {
   "cell_type": "code",
   "execution_count": 58,
   "metadata": {},
   "outputs": [],
   "source": [
    "df_yelp = pd.merge(df_business,reviews,on=\"business_id\",how=\"inner\")"
   ]
  },
  {
   "cell_type": "code",
   "execution_count": 60,
   "metadata": {},
   "outputs": [
    {
     "data": {
      "text/html": [
       "<div>\n",
       "<style scoped>\n",
       "    .dataframe tbody tr th:only-of-type {\n",
       "        vertical-align: middle;\n",
       "    }\n",
       "\n",
       "    .dataframe tbody tr th {\n",
       "        vertical-align: top;\n",
       "    }\n",
       "\n",
       "    .dataframe thead th {\n",
       "        text-align: right;\n",
       "    }\n",
       "</style>\n",
       "<table border=\"1\" class=\"dataframe\">\n",
       "  <thead>\n",
       "    <tr style=\"text-align: right;\">\n",
       "      <th></th>\n",
       "      <th>business_id</th>\n",
       "      <th>name</th>\n",
       "      <th>address</th>\n",
       "      <th>city</th>\n",
       "      <th>state</th>\n",
       "      <th>postal_code</th>\n",
       "      <th>latitude</th>\n",
       "      <th>longitude</th>\n",
       "      <th>stars_x</th>\n",
       "      <th>review_count</th>\n",
       "      <th>...</th>\n",
       "      <th>categories</th>\n",
       "      <th>hours</th>\n",
       "      <th>text</th>\n",
       "      <th>cool</th>\n",
       "      <th>stars_y</th>\n",
       "      <th>date</th>\n",
       "      <th>funny</th>\n",
       "      <th>review_id</th>\n",
       "      <th>useful</th>\n",
       "      <th>user_id</th>\n",
       "    </tr>\n",
       "  </thead>\n",
       "  <tbody>\n",
       "    <tr>\n",
       "      <th>0</th>\n",
       "      <td>seKihQKpGGnCeLuELRQPSQ</td>\n",
       "      <td>Twin Peaks</td>\n",
       "      <td>6880 E 82nd St</td>\n",
       "      <td>Indianapolis</td>\n",
       "      <td>FL</td>\n",
       "      <td>46250</td>\n",
       "      <td>39.906295</td>\n",
       "      <td>-86.047463</td>\n",
       "      <td>3.5</td>\n",
       "      <td>257</td>\n",
       "      <td>...</td>\n",
       "      <td>Sports Bars, American (New), American (Traditi...</td>\n",
       "      <td>{'Monday': '0:0-0:0', 'Tuesday': '11:0-0:0', '...</td>\n",
       "      <td>Good was on par with your typical sports bar. ...</td>\n",
       "      <td>0</td>\n",
       "      <td>3</td>\n",
       "      <td>2015-01-11 22:49:33 UTC</td>\n",
       "      <td>0</td>\n",
       "      <td>CSebyfJjT740KKgE6IPYcg</td>\n",
       "      <td>0</td>\n",
       "      <td>ZYNEE_VRshepHB599zUWcA</td>\n",
       "    </tr>\n",
       "    <tr>\n",
       "      <th>1</th>\n",
       "      <td>seKihQKpGGnCeLuELRQPSQ</td>\n",
       "      <td>Twin Peaks</td>\n",
       "      <td>6880 E 82nd St</td>\n",
       "      <td>Indianapolis</td>\n",
       "      <td>FL</td>\n",
       "      <td>46250</td>\n",
       "      <td>39.906295</td>\n",
       "      <td>-86.047463</td>\n",
       "      <td>3.5</td>\n",
       "      <td>257</td>\n",
       "      <td>...</td>\n",
       "      <td>Sports Bars, American (New), American (Traditi...</td>\n",
       "      <td>{'Monday': '0:0-0:0', 'Tuesday': '11:0-0:0', '...</td>\n",
       "      <td>With chain restaurants, I write short reviews ...</td>\n",
       "      <td>0</td>\n",
       "      <td>4</td>\n",
       "      <td>2019-07-08 00:18:19 UTC</td>\n",
       "      <td>3</td>\n",
       "      <td>B5aECxALkQZgQQQ4oQiVSA</td>\n",
       "      <td>0</td>\n",
       "      <td>_TKXaTPT2Yu0rRFqYzs44g</td>\n",
       "    </tr>\n",
       "    <tr>\n",
       "      <th>2</th>\n",
       "      <td>seKihQKpGGnCeLuELRQPSQ</td>\n",
       "      <td>Twin Peaks</td>\n",
       "      <td>6880 E 82nd St</td>\n",
       "      <td>Indianapolis</td>\n",
       "      <td>FL</td>\n",
       "      <td>46250</td>\n",
       "      <td>39.906295</td>\n",
       "      <td>-86.047463</td>\n",
       "      <td>3.5</td>\n",
       "      <td>257</td>\n",
       "      <td>...</td>\n",
       "      <td>Sports Bars, American (New), American (Traditi...</td>\n",
       "      <td>{'Monday': '0:0-0:0', 'Tuesday': '11:0-0:0', '...</td>\n",
       "      <td>Been wanting to come to twin peaks for a while...</td>\n",
       "      <td>0</td>\n",
       "      <td>5</td>\n",
       "      <td>2022-01-18 20:36:24 UTC</td>\n",
       "      <td>0</td>\n",
       "      <td>uOzC-IXnlc5hJ2h-0jNRKQ</td>\n",
       "      <td>0</td>\n",
       "      <td>ZphdnOBaO5Qd3STxXjspVw</td>\n",
       "    </tr>\n",
       "    <tr>\n",
       "      <th>3</th>\n",
       "      <td>ppFCk9aQkM338Rgwpl2F5A</td>\n",
       "      <td>Wawa</td>\n",
       "      <td>3604 Chestnut St</td>\n",
       "      <td>Philadelphia</td>\n",
       "      <td>FL</td>\n",
       "      <td>19104</td>\n",
       "      <td>39.954573</td>\n",
       "      <td>-75.194894</td>\n",
       "      <td>3.0</td>\n",
       "      <td>56</td>\n",
       "      <td>...</td>\n",
       "      <td>Restaurants, Automotive, Delis, Gas Stations, ...</td>\n",
       "      <td>{'Monday': '0:0-0:0', 'Tuesday': '0:0-0:0', 'W...</td>\n",
       "      <td>This place is pretty well-run - it's always cl...</td>\n",
       "      <td>0</td>\n",
       "      <td>4</td>\n",
       "      <td>2009-01-25 04:08:52 UTC</td>\n",
       "      <td>0</td>\n",
       "      <td>PUNdXZqu6PvqhOWnsqIkAw</td>\n",
       "      <td>1</td>\n",
       "      <td>OZTZgCcxO7fcFkZ3LYDroA</td>\n",
       "    </tr>\n",
       "    <tr>\n",
       "      <th>4</th>\n",
       "      <td>uDQgmudYDKiB6n4vwbEeDg</td>\n",
       "      <td>Chrysalis</td>\n",
       "      <td>9040 Carothers Pkwy</td>\n",
       "      <td>Franklin</td>\n",
       "      <td>FL</td>\n",
       "      <td>37067</td>\n",
       "      <td>35.956533</td>\n",
       "      <td>-86.80272</td>\n",
       "      <td>4.5</td>\n",
       "      <td>112</td>\n",
       "      <td>...</td>\n",
       "      <td>Restaurants, Italian, Nightlife, Bars, Cocktai...</td>\n",
       "      <td>{'Monday': '0:0-0:0', 'Tuesday': '11:0-21:0', ...</td>\n",
       "      <td>We ordered take-out from this new place, and s...</td>\n",
       "      <td>1</td>\n",
       "      <td>4</td>\n",
       "      <td>2021-02-15 19:44:15 UTC</td>\n",
       "      <td>1</td>\n",
       "      <td>QhOnn7yj_oheUXjzAsT6ug</td>\n",
       "      <td>4</td>\n",
       "      <td>Z18Bze20mEVqRXAfe8DjZg</td>\n",
       "    </tr>\n",
       "    <tr>\n",
       "      <th>5</th>\n",
       "      <td>Edg22x3CZkIv0GUib2oEFA</td>\n",
       "      <td>Mellow Mushroom</td>\n",
       "      <td>8227 Oak St</td>\n",
       "      <td>New Orleans</td>\n",
       "      <td>FL</td>\n",
       "      <td>70118</td>\n",
       "      <td>29.948624</td>\n",
       "      <td>-90.13125</td>\n",
       "      <td>3.5</td>\n",
       "      <td>149</td>\n",
       "      <td>...</td>\n",
       "      <td>Pizza, Restaurants, Bars, Nightlife, Sandwiches</td>\n",
       "      <td>{'Monday': '0:0-0:0', 'Tuesday': '11:0-21:0', ...</td>\n",
       "      <td>Fun ambiance and food is good not great. Servi...</td>\n",
       "      <td>0</td>\n",
       "      <td>3</td>\n",
       "      <td>2019-09-14 22:43:20 UTC</td>\n",
       "      <td>0</td>\n",
       "      <td>YMpRLhAt7r2FYVp0JSpfdw</td>\n",
       "      <td>0</td>\n",
       "      <td>9lAp1eOFlvmA21pvLn6UsQ</td>\n",
       "    </tr>\n",
       "    <tr>\n",
       "      <th>6</th>\n",
       "      <td>Edg22x3CZkIv0GUib2oEFA</td>\n",
       "      <td>Mellow Mushroom</td>\n",
       "      <td>8227 Oak St</td>\n",
       "      <td>New Orleans</td>\n",
       "      <td>FL</td>\n",
       "      <td>70118</td>\n",
       "      <td>29.948624</td>\n",
       "      <td>-90.13125</td>\n",
       "      <td>3.5</td>\n",
       "      <td>149</td>\n",
       "      <td>...</td>\n",
       "      <td>Pizza, Restaurants, Bars, Nightlife, Sandwiches</td>\n",
       "      <td>{'Monday': '0:0-0:0', 'Tuesday': '11:0-21:0', ...</td>\n",
       "      <td>The good. We had the pizza. Delicious crust. C...</td>\n",
       "      <td>0</td>\n",
       "      <td>3</td>\n",
       "      <td>2016-03-25 03:10:54 UTC</td>\n",
       "      <td>0</td>\n",
       "      <td>mNgCyN6iuDHrJFqLwEBqXQ</td>\n",
       "      <td>0</td>\n",
       "      <td>NEgCqpLI1QCN5TxKn23fiA</td>\n",
       "    </tr>\n",
       "    <tr>\n",
       "      <th>7</th>\n",
       "      <td>W57cR9a7XP6RX56MSWHJJA</td>\n",
       "      <td>Las Margaritas</td>\n",
       "      <td>514 S Rampart St</td>\n",
       "      <td>New Orleans</td>\n",
       "      <td>FL</td>\n",
       "      <td>70163</td>\n",
       "      <td>29.95029</td>\n",
       "      <td>-90.074887</td>\n",
       "      <td>3.5</td>\n",
       "      <td>58</td>\n",
       "      <td>...</td>\n",
       "      <td>Mexican, Restaurants</td>\n",
       "      <td>{'Monday': '0:0-0:0', 'Tuesday': '11:0-22:0', ...</td>\n",
       "      <td>Fast and friendly service.  My grandson said t...</td>\n",
       "      <td>0</td>\n",
       "      <td>3</td>\n",
       "      <td>2016-06-19 00:57:10 UTC</td>\n",
       "      <td>0</td>\n",
       "      <td>c1DeVcZ58Vmc7m75rSj1zQ</td>\n",
       "      <td>0</td>\n",
       "      <td>-ya_NmklzNvBXQs8mdiwfw</td>\n",
       "    </tr>\n",
       "    <tr>\n",
       "      <th>8</th>\n",
       "      <td>-7GDqSUaXrpC8Ql7nDBxWA</td>\n",
       "      <td>B2 Bluefin</td>\n",
       "      <td>401 E City Ave</td>\n",
       "      <td>Bala Cynwyd</td>\n",
       "      <td>FL</td>\n",
       "      <td>19004</td>\n",
       "      <td>40.007984</td>\n",
       "      <td>-75.212606</td>\n",
       "      <td>4.0</td>\n",
       "      <td>92</td>\n",
       "      <td>...</td>\n",
       "      <td>Nightlife, Bars, Cocktail Bars, Japanese, Rest...</td>\n",
       "      <td>{'Monday': '11:30-22:0', 'Tuesday': '16:30-22:...</td>\n",
       "      <td>Great atmosphere. Delicious food. Weird servic...</td>\n",
       "      <td>0</td>\n",
       "      <td>4</td>\n",
       "      <td>2018-06-23 00:55:43 UTC</td>\n",
       "      <td>0</td>\n",
       "      <td>ZRf8qZM1Rq21e5cI3HIcpA</td>\n",
       "      <td>0</td>\n",
       "      <td>EsMMxTs0arl-c0a4ZuYtsg</td>\n",
       "    </tr>\n",
       "    <tr>\n",
       "      <th>9</th>\n",
       "      <td>XwoXi0M66RU6Gouq-DSDHw</td>\n",
       "      <td>G Peppers Grill &amp; Tavern</td>\n",
       "      <td>8745 Gunn Hwy</td>\n",
       "      <td>Odessa</td>\n",
       "      <td>FL</td>\n",
       "      <td>33556</td>\n",
       "      <td>28.092136</td>\n",
       "      <td>-82.578574</td>\n",
       "      <td>4.0</td>\n",
       "      <td>82</td>\n",
       "      <td>...</td>\n",
       "      <td>Restaurants, Mexican, American (Traditional)</td>\n",
       "      <td>{'Monday': '11:0-22:0', 'Tuesday': '11:0-22:0'...</td>\n",
       "      <td>Starting Thursday, 12.15.11\\nCOWBOY QUESADILLA...</td>\n",
       "      <td>0</td>\n",
       "      <td>5</td>\n",
       "      <td>2011-12-12 14:07:48 UTC</td>\n",
       "      <td>0</td>\n",
       "      <td>Rx4XxoA2U4LFCkGjoJqPjA</td>\n",
       "      <td>0</td>\n",
       "      <td>Mxb3qiFonMIoFzAUPThRmQ</td>\n",
       "    </tr>\n",
       "  </tbody>\n",
       "</table>\n",
       "<p>10 rows × 22 columns</p>\n",
       "</div>"
      ],
      "text/plain": [
       "              business_id                      name              address  \\\n",
       "0  seKihQKpGGnCeLuELRQPSQ                Twin Peaks       6880 E 82nd St   \n",
       "1  seKihQKpGGnCeLuELRQPSQ                Twin Peaks       6880 E 82nd St   \n",
       "2  seKihQKpGGnCeLuELRQPSQ                Twin Peaks       6880 E 82nd St   \n",
       "3  ppFCk9aQkM338Rgwpl2F5A                      Wawa     3604 Chestnut St   \n",
       "4  uDQgmudYDKiB6n4vwbEeDg                 Chrysalis  9040 Carothers Pkwy   \n",
       "5  Edg22x3CZkIv0GUib2oEFA           Mellow Mushroom          8227 Oak St   \n",
       "6  Edg22x3CZkIv0GUib2oEFA           Mellow Mushroom          8227 Oak St   \n",
       "7  W57cR9a7XP6RX56MSWHJJA            Las Margaritas     514 S Rampart St   \n",
       "8  -7GDqSUaXrpC8Ql7nDBxWA                B2 Bluefin       401 E City Ave   \n",
       "9  XwoXi0M66RU6Gouq-DSDHw  G Peppers Grill & Tavern        8745 Gunn Hwy   \n",
       "\n",
       "           city state postal_code   latitude  longitude stars_x review_count  \\\n",
       "0  Indianapolis    FL       46250  39.906295 -86.047463     3.5          257   \n",
       "1  Indianapolis    FL       46250  39.906295 -86.047463     3.5          257   \n",
       "2  Indianapolis    FL       46250  39.906295 -86.047463     3.5          257   \n",
       "3  Philadelphia    FL       19104  39.954573 -75.194894     3.0           56   \n",
       "4      Franklin    FL       37067  35.956533  -86.80272     4.5          112   \n",
       "5   New Orleans    FL       70118  29.948624  -90.13125     3.5          149   \n",
       "6   New Orleans    FL       70118  29.948624  -90.13125     3.5          149   \n",
       "7   New Orleans    FL       70163   29.95029 -90.074887     3.5           58   \n",
       "8   Bala Cynwyd    FL       19004  40.007984 -75.212606     4.0           92   \n",
       "9        Odessa    FL       33556  28.092136 -82.578574     4.0           82   \n",
       "\n",
       "   ...                                         categories  \\\n",
       "0  ...  Sports Bars, American (New), American (Traditi...   \n",
       "1  ...  Sports Bars, American (New), American (Traditi...   \n",
       "2  ...  Sports Bars, American (New), American (Traditi...   \n",
       "3  ...  Restaurants, Automotive, Delis, Gas Stations, ...   \n",
       "4  ...  Restaurants, Italian, Nightlife, Bars, Cocktai...   \n",
       "5  ...    Pizza, Restaurants, Bars, Nightlife, Sandwiches   \n",
       "6  ...    Pizza, Restaurants, Bars, Nightlife, Sandwiches   \n",
       "7  ...                               Mexican, Restaurants   \n",
       "8  ...  Nightlife, Bars, Cocktail Bars, Japanese, Rest...   \n",
       "9  ...       Restaurants, Mexican, American (Traditional)   \n",
       "\n",
       "                                               hours  \\\n",
       "0  {'Monday': '0:0-0:0', 'Tuesday': '11:0-0:0', '...   \n",
       "1  {'Monday': '0:0-0:0', 'Tuesday': '11:0-0:0', '...   \n",
       "2  {'Monday': '0:0-0:0', 'Tuesday': '11:0-0:0', '...   \n",
       "3  {'Monday': '0:0-0:0', 'Tuesday': '0:0-0:0', 'W...   \n",
       "4  {'Monday': '0:0-0:0', 'Tuesday': '11:0-21:0', ...   \n",
       "5  {'Monday': '0:0-0:0', 'Tuesday': '11:0-21:0', ...   \n",
       "6  {'Monday': '0:0-0:0', 'Tuesday': '11:0-21:0', ...   \n",
       "7  {'Monday': '0:0-0:0', 'Tuesday': '11:0-22:0', ...   \n",
       "8  {'Monday': '11:30-22:0', 'Tuesday': '16:30-22:...   \n",
       "9  {'Monday': '11:0-22:0', 'Tuesday': '11:0-22:0'...   \n",
       "\n",
       "                                                text cool stars_y  \\\n",
       "0  Good was on par with your typical sports bar. ...    0       3   \n",
       "1  With chain restaurants, I write short reviews ...    0       4   \n",
       "2  Been wanting to come to twin peaks for a while...    0       5   \n",
       "3  This place is pretty well-run - it's always cl...    0       4   \n",
       "4  We ordered take-out from this new place, and s...    1       4   \n",
       "5  Fun ambiance and food is good not great. Servi...    0       3   \n",
       "6  The good. We had the pizza. Delicious crust. C...    0       3   \n",
       "7  Fast and friendly service.  My grandson said t...    0       3   \n",
       "8  Great atmosphere. Delicious food. Weird servic...    0       4   \n",
       "9  Starting Thursday, 12.15.11\\nCOWBOY QUESADILLA...    0       5   \n",
       "\n",
       "                      date  funny               review_id  useful  \\\n",
       "0  2015-01-11 22:49:33 UTC      0  CSebyfJjT740KKgE6IPYcg       0   \n",
       "1  2019-07-08 00:18:19 UTC      3  B5aECxALkQZgQQQ4oQiVSA       0   \n",
       "2  2022-01-18 20:36:24 UTC      0  uOzC-IXnlc5hJ2h-0jNRKQ       0   \n",
       "3  2009-01-25 04:08:52 UTC      0  PUNdXZqu6PvqhOWnsqIkAw       1   \n",
       "4  2021-02-15 19:44:15 UTC      1  QhOnn7yj_oheUXjzAsT6ug       4   \n",
       "5  2019-09-14 22:43:20 UTC      0  YMpRLhAt7r2FYVp0JSpfdw       0   \n",
       "6  2016-03-25 03:10:54 UTC      0  mNgCyN6iuDHrJFqLwEBqXQ       0   \n",
       "7  2016-06-19 00:57:10 UTC      0  c1DeVcZ58Vmc7m75rSj1zQ       0   \n",
       "8  2018-06-23 00:55:43 UTC      0  ZRf8qZM1Rq21e5cI3HIcpA       0   \n",
       "9  2011-12-12 14:07:48 UTC      0  Rx4XxoA2U4LFCkGjoJqPjA       0   \n",
       "\n",
       "                  user_id  \n",
       "0  ZYNEE_VRshepHB599zUWcA  \n",
       "1  _TKXaTPT2Yu0rRFqYzs44g  \n",
       "2  ZphdnOBaO5Qd3STxXjspVw  \n",
       "3  OZTZgCcxO7fcFkZ3LYDroA  \n",
       "4  Z18Bze20mEVqRXAfe8DjZg  \n",
       "5  9lAp1eOFlvmA21pvLn6UsQ  \n",
       "6  NEgCqpLI1QCN5TxKn23fiA  \n",
       "7  -ya_NmklzNvBXQs8mdiwfw  \n",
       "8  EsMMxTs0arl-c0a4ZuYtsg  \n",
       "9  Mxb3qiFonMIoFzAUPThRmQ  \n",
       "\n",
       "[10 rows x 22 columns]"
      ]
     },
     "execution_count": 60,
     "metadata": {},
     "output_type": "execute_result"
    }
   ],
   "source": [
    "df_yelp.head(10)"
   ]
  },
  {
   "cell_type": "markdown",
   "metadata": {},
   "source": [
    "## Google Maps"
   ]
  },
  {
   "cell_type": "markdown",
   "metadata": {},
   "source": [
    "### Reviews estados Florida"
   ]
  },
  {
   "cell_type": "markdown",
   "metadata": {},
   "source": [
    "Review florida"
   ]
  },
  {
   "cell_type": "code",
   "execution_count": 61,
   "metadata": {},
   "outputs": [],
   "source": [
    "import json\n",
    "import pandas as pd\n",
    "import glob\n",
    "from pandas import json_normalize"
   ]
  },
  {
   "cell_type": "code",
   "execution_count": 62,
   "metadata": {},
   "outputs": [],
   "source": [
    "\n",
    "# Ruta a los archivos JSON\n",
    "ruta_archivos = \"D:\\\\Downloads\\\\review-Florida\\\\*.json\"\n",
    "\n",
    "# Inicializar una lista para almacenar los datos\n",
    "datos = []\n",
    "\n",
    "# Leer cada archivo JSON\n",
    "for archivo in glob.glob(ruta_archivos):\n",
    "    with open(archivo, \"r\") as f:\n",
    "        for linea in f:\n",
    "            objeto = json.loads(linea)\n",
    "            datos.append(objeto)\n",
    "\n",
    "# Crear un DataFrame con todos los datos\n",
    "df_florida = pd.DataFrame(datos)"
   ]
  },
  {
   "cell_type": "markdown",
   "metadata": {},
   "source": [
    "### metadata-sitios"
   ]
  },
  {
   "cell_type": "code",
   "execution_count": 17,
   "metadata": {},
   "outputs": [],
   "source": [
    "import json\n",
    "\n",
    "# Ruta a los archivos JSON\n",
    "ruta_archivos = \"D:\\\\Downloads\\\\metadata-sitios\\\\1.json\"\n",
    "\n",
    "# Leer el archivo como texto\n",
    "with open(ruta_archivos, 'r', encoding='utf-8') as f:\n",
    "    data = f.read()\n",
    "\n",
    "# Procesar cada objeto JSON en el archivo\n",
    "json_objects = [json.loads(obj) for obj in data.splitlines()]\n",
    "\n",
    "# Convertir a un DataFrame de pandas\n",
    "df = pd.DataFrame(json_objects)\n"
   ]
  },
  {
   "cell_type": "code",
   "execution_count": 68,
   "metadata": {},
   "outputs": [],
   "source": [
    "# Ruta a los archivos JSON\n",
    "ruta_archivos = \"D:\\\\Downloads\\\\metadata-sitios\\\\*.json\"\n",
    "\n",
    "# Inicializar una lista para almacenar los datos\n",
    "datos = []\n",
    "\n",
    "# Leer cada archivo JSON\n",
    "for archivo in glob.glob(ruta_archivos):\n",
    "    with open(archivo, \"r\") as f:\n",
    "        for linea in f:\n",
    "            objeto = json.loads(linea)\n",
    "            datos.append(objeto)\n",
    "\n",
    "# Crear un DataFrame con todos los datos\n",
    "df_sitios = pd.DataFrame(datos)"
   ]
  },
  {
   "cell_type": "code",
   "execution_count": 72,
   "metadata": {},
   "outputs": [],
   "source": [
    "# Renombramos los nulos de la columna \"category\"\n",
    "df_sitios['category'] = df_sitios['category'].fillna('')\n",
    "\n",
    "# Filtramos bussines que sean restaurantes\n",
    "df_sitios = df_sitios[df_sitios['category'].astype(str).str.contains('restaurant', case=False)]"
   ]
  },
  {
   "cell_type": "markdown",
   "metadata": {},
   "source": [
    "### Hacemos un join con df_sitios y df_florida"
   ]
  },
  {
   "cell_type": "code",
   "execution_count": 74,
   "metadata": {},
   "outputs": [],
   "source": [
    "# Realizar el join\n",
    "df_google = pd.merge(df_sitios, df_florida, on='gmap_id', how='inner')"
   ]
  },
  {
   "cell_type": "code",
   "execution_count": 76,
   "metadata": {},
   "outputs": [],
   "source": [
    "df_google.rename(columns={\"name_x\": \"User\", \"name_y\": \"restaurant\"}, inplace=True)\n"
   ]
  },
  {
   "cell_type": "code",
   "execution_count": 78,
   "metadata": {},
   "outputs": [],
   "source": [
    "df_google.to_csv(\"df_google.csv\")"
   ]
  },
  {
   "cell_type": "markdown",
   "metadata": {},
   "source": [
    "## Modelo de machine learning"
   ]
  },
  {
   "cell_type": "code",
   "execution_count": 119,
   "metadata": {},
   "outputs": [],
   "source": [
    "import pandas as pd\n",
    "from sklearn.feature_extraction.text import TfidfVectorizer\n",
    "from sklearn.metrics.pairwise import linear_kernel"
   ]
  },
  {
   "cell_type": "code",
   "execution_count": 122,
   "metadata": {},
   "outputs": [],
   "source": [
    "# Limpiar datos: eliminar filas con texto nulo o vacío\n",
    "df = df.dropna(subset=['text'])  # Eliminar filas donde 'text' es None\n",
    "df = df[df['text'].str.strip() != '']  # Eliminar filas donde 'text' está vací"
   ]
  },
  {
   "cell_type": "code",
   "execution_count": 123,
   "metadata": {},
   "outputs": [],
   "source": [
    "# Vectorizar el texto\n",
    "tfidf = TfidfVectorizer(stop_words='english')\n",
    "tfidf_matrix = tfidf.fit_transform(df['text'])\n"
   ]
  },
  {
   "cell_type": "code",
   "execution_count": 124,
   "metadata": {},
   "outputs": [],
   "source": [
    "# Calcular la matriz de similitud\n",
    "cosine_sim = linear_kernel(tfidf_matrix, tfidf_matrix)"
   ]
  },
  {
   "cell_type": "code",
   "execution_count": 125,
   "metadata": {},
   "outputs": [],
   "source": [
    "def recommend_similar_restaurants(restaurant_name, cosine_sim=cosine_sim):\n",
    "    # Obtén el índice del restaurante que coincide con el nombre\n",
    "    idx = df[df['Name_restaurant'] == restaurant_name].index[0]\n",
    "    \n",
    "    # Obtén las puntuaciones de similitud de todas las filas con ese restaurante\n",
    "    sim_scores = list(enumerate(cosine_sim[idx]))\n",
    "    \n",
    "    # Ordena las restaurantes basados en la similitud\n",
    "    sim_scores = sorted(sim_scores, key=lambda x: x[1], reverse=True)\n",
    "    \n",
    "    # Obtener los 5 restaurantes más similares\n",
    "    sim_scores = sim_scores[1:6]  # Excluyendo el mismo restaurante\n",
    "    \n",
    "    # Obtén los índices de los restaurantes\n",
    "    restaurant_indices = [i[0] for i in sim_scores]\n",
    "    \n",
    "    # Retorna los restaurantes similares\n",
    "    return df.iloc[restaurant_indices]"
   ]
  },
  {
   "cell_type": "code",
   "execution_count": 137,
   "metadata": {},
   "outputs": [
    {
     "data": {
      "text/plain": [
       "'Alley Cat Seafood, Beer House & Wine Boutique'"
      ]
     },
     "execution_count": 137,
     "metadata": {},
     "output_type": "execute_result"
    }
   ],
   "source": [
    "df[\"Name_restaurant\"][2000]"
   ]
  },
  {
   "cell_type": "code",
   "execution_count": 138,
   "metadata": {},
   "outputs": [],
   "source": [
    "# Prueba la función\n",
    "recommended_restaurants = recommend_similar_restaurants(\"Alley Cat Seafood, Beer House & Wine Boutique\")\n"
   ]
  },
  {
   "cell_type": "code",
   "execution_count": 139,
   "metadata": {},
   "outputs": [
    {
     "data": {
      "text/plain": [
       "Name_restaurant\n",
       "Maoz Vegetarian               1\n",
       "Las Delicias De Clara         1\n",
       "Zócalo Folsom                 1\n",
       "Green Life Market             1\n",
       "Norkys Peruvian Restaurant    1\n",
       "Name: count, dtype: int64"
      ]
     },
     "execution_count": 139,
     "metadata": {},
     "output_type": "execute_result"
    }
   ],
   "source": [
    "recommended_restaurants[\"Name_restaurant\"].value_counts()"
   ]
  },
  {
   "cell_type": "code",
   "execution_count": 23,
   "metadata": {},
   "outputs": [],
   "source": [
    "df_final.to_csv(\"df_final.csv\")"
   ]
  },
  {
   "cell_type": "markdown",
   "metadata": {},
   "source": []
  }
 ],
 "metadata": {
  "kernelspec": {
   "display_name": "Python 3",
   "language": "python",
   "name": "python3"
  },
  "language_info": {
   "codemirror_mode": {
    "name": "ipython",
    "version": 3
   },
   "file_extension": ".py",
   "mimetype": "text/x-python",
   "name": "python",
   "nbconvert_exporter": "python",
   "pygments_lexer": "ipython3",
   "version": "3.12.6"
  }
 },
 "nbformat": 4,
 "nbformat_minor": 2
}
